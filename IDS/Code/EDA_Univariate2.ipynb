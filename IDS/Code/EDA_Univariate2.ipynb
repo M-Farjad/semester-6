{
 "cells": [
  {
   "cell_type": "code",
   "execution_count": 1,
   "metadata": {},
   "outputs": [
    {
     "name": "stderr",
     "output_type": "stream",
     "text": [
      "C:\\Users\\ST\\AppData\\Local\\Temp\\ipykernel_15296\\984865376.py:1: DeprecationWarning: \n",
      "Pyarrow will become a required dependency of pandas in the next major release of pandas (pandas 3.0),\n",
      "(to allow more performant data types, such as the Arrow string type, and better interoperability with other libraries)\n",
      "but was not found to be installed on your system.\n",
      "If this would cause problems for you,\n",
      "please provide us feedback at https://github.com/pandas-dev/pandas/issues/54466\n",
      "        \n",
      "  import pandas as pd\n"
     ]
    }
   ],
   "source": [
    "import pandas as pd\n",
    "import numpy as np\n",
    "import seaborn as sns\n",
    "import matplotlib.pyplot as plt\n",
    "import os\n",
    "\n",
    "os.chdir(r'D:\\Study Material\\semester-6\\IDS\\Code')\n",
    "data = pd.read_csv(\"SalesData.csv\")\n",
    "# print(data.head())\n",
    "# print(data.columns)\n",
    "# print(data.shape)\n",
    "\n",
    "###### HISTOGRAMS and DENSITY PLOTS ########\n",
    "\n",
    "# values = data['Quantity']\n",
    "# print(min(values))\n",
    "# print(max(values))\n",
    "# sns.histplot(values) # all numeric data\n",
    "# ax = sns.histplot(x=values,  kde=False,\n",
    "#               binwidth=2, color = 'blue', stat='probability') # bins,\n",
    "# plt.grid()\n",
    "# ax = sns.displot(data = values, kind='ecdf') # hist, kde, ecdf\n",
    "# ax = sns.kdeplot(data = values, shade=True)\n",
    "# plt.xlim([min(values), max(values)])\n",
    "\n",
    "# plt.show()\n",
    "\n",
    "# np.random.seed(0)\n",
    "# x = np.random.randn(1000)\n",
    "# ax = sns.displot(x, kind='kde')\n",
    "# plt.show()\n",
    "############# Bar Plot ##############\n"
   ]
  }
 ],
 "metadata": {
  "kernelspec": {
   "display_name": "Python 3",
   "language": "python",
   "name": "python3"
  },
  "language_info": {
   "codemirror_mode": {
    "name": "ipython",
    "version": 3
   },
   "file_extension": ".py",
   "mimetype": "text/x-python",
   "name": "python",
   "nbconvert_exporter": "python",
   "pygments_lexer": "ipython3",
   "version": "3.12.1"
  }
 },
 "nbformat": 4,
 "nbformat_minor": 2
}
