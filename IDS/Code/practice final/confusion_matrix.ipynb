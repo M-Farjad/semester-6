{
 "cells": [
  {
   "cell_type": "code",
   "execution_count": 2,
   "metadata": {},
   "outputs": [
    {
     "name": "stdout",
     "output_type": "stream",
     "text": [
      "The Confusion matrix is: \n",
      " [[6 0 3 1]\n",
      " [2 4 0 4]\n",
      " [3 3 3 0]\n",
      " [1 4 1 2]]\n",
      "-------------------------------------\n",
      "              precision    recall  f1-score   support\n",
      "\n",
      "         Cat      0.500     0.600     0.545        10\n",
      "         Dog      0.364     0.400     0.381        10\n",
      "       Tiger      0.429     0.333     0.375         9\n",
      "        Wolf      0.286     0.250     0.267         8\n",
      "\n",
      "    accuracy                          0.405        37\n",
      "   macro avg      0.394     0.396     0.392        37\n",
      "weighted avg      0.399     0.405     0.399        37\n",
      "\n"
     ]
    }
   ],
   "source": [
    "from sklearn import metrics\n",
    "\n",
    "# Classes\n",
    "C = \"Cat\"\n",
    "D = \"Dog\"\n",
    "W = \"Wolf\"\n",
    "T = \"Tiger\"\n",
    "\n",
    "# True values\n",
    "y_true = [C,C,T,D,D,C,W,T,C,D,W,C,C,T,D,C,W,T,D,T,W,D,C,W,T,W,D,C,D,T,D,W,W,T,C,D,T]\n",
    "\n",
    "# Predicted values\n",
    "y_pred = [C,C,C,D,W,T,D,T,C,D,D,T,C,C,D,T,W,T,C,D,D,C,W,C,D,D,W,C,D,D,W,T,W,C,C,W,T]\n",
    "\n",
    "# Print the confusion matrix\n",
    "print('The Confusion matrix is: \\n', metrics.confusion_matrix(y_true, y_pred))\n",
    "\n",
    "print('-------------------------------------')\n",
    "\n",
    "# Print the precision and recall, among other metrics\n",
    "print(metrics.classification_report(y_true, y_pred, digits=3))"
   ]
  }
 ],
 "metadata": {
  "kernelspec": {
   "display_name": "Python 3",
   "language": "python",
   "name": "python3"
  },
  "language_info": {
   "codemirror_mode": {
    "name": "ipython",
    "version": 3
   },
   "file_extension": ".py",
   "mimetype": "text/x-python",
   "name": "python",
   "nbconvert_exporter": "python",
   "pygments_lexer": "ipython3",
   "version": "3.12.1"
  }
 },
 "nbformat": 4,
 "nbformat_minor": 2
}
